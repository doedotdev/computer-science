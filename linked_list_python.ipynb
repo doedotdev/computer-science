{
 "cells": [
  {
   "cell_type": "markdown",
   "metadata": {},
   "source": [
    "### Linked List in Python\n",
    "- Lists composed of objects that hold data and pointers, or references to the next object\n",
    "- Useful for quick insertion and deletion\n",
    "- Often used in Stacks And Queues\n",
    "- TODO: use cases\n",
    "- TODO: timing cases vs regular lists\n",
    "- TODO: add best case, worst case, exact case complexity\n"
   ]
  },
  {
   "cell_type": "code",
   "execution_count": 84,
   "metadata": {},
   "outputs": [],
   "source": [
    "from dataclasses import dataclass, asdict\n",
    "from typing import Optional, Any\n",
    "\n",
    "@dataclass\n",
    "class Node:\n",
    "    \"\"\" Node holds data, pointer to next, and pointer to last \"\"\"\n",
    "    node_data: Any\n",
    "    node_next: Any = None\n",
    "    node_last: Any = None\n",
    "\n",
    "\n",
    "@dataclass\n",
    "class LinkedList:\n",
    "    root_node: Node = None\n",
    "    tail_node: Node = None\n",
    "    length: int = 0\n",
    "        \n",
    "    def set_only_node(self, node):\n",
    "        \"\"\" Sets node when none exist | O(1) \"\"\"\n",
    "        self.root_node = node\n",
    "        self.tail_node = node\n",
    "        \n",
    "        \n",
    "    def append(self, node):\n",
    "        \"\"\" Append to List | O(1) \"\"\"\n",
    "        if not self.root_node and not self.tail_node:\n",
    "            self.set_only_node(node)\n",
    "        else:\n",
    "            node.node_last = self.tail_node  # new node points to tail <-\n",
    "            self.tail_node.node_next = node  # old tail points to new one ->\n",
    "            self.tail_node = node            # new node becomes tail\n",
    "        self.length += 1\n",
    "    \n",
    "    def prepend(self, node):\n",
    "        \"\"\" Prepend to List | O(1) \"\"\"\n",
    "        if not self.root_node and not self.tail_node:\n",
    "            self.set_only_node(node)\n",
    "        else:\n",
    "            self.root_node.node_last = node  # root node points back to new one <-\n",
    "            node.node_next = self.root_node  # new node points to old root ->\n",
    "            self.root_node = node            # new node becomes root node\n",
    "        \n",
    "        self.length += 1\n",
    "        \n",
    "    def in_order(self): # In order traversal = O(N)\n",
    "        \"\"\" In order traversal | O(N) \"\"\"\n",
    "        current_node = self.root_node\n",
    "        node_data_builder = []\n",
    "        while(current_node):\n",
    "            node_data_builder.append(current_node.node_data)\n",
    "            current_node = current_node.node_next\n",
    "                \n",
    "        return node_data_builder\n",
    "    \n",
    "    def reverse_order(self):\n",
    "        \"\"\" Reverse order traversal | O(N) \"\"\"\n",
    "        current_node = self.tail_node\n",
    "        node_data_builder = []\n",
    "        while(current_node):\n",
    "            node_data_builder.append(current_node.node_data)\n",
    "            current_node = current_node.node_last\n",
    "        \n",
    "        return node_data_builder\n",
    "    \n",
    "    def root(self):\n",
    "        \"\"\" Get Root Node | O(1) \"\"\"\n",
    "        return self.root_node\n",
    "    \n",
    "    def tail(self):\n",
    "        \"\"\" Get Tail Node | O(1) \"\"\"\n",
    "        return self.tail_node\n",
    "    \n",
    "    def swap_index(self, index_one: int, index_two: int):\n",
    "        pass\n",
    "    \n",
    "    def swap(self, node_one: Node, node_two: Node):\n",
    "        pass\n",
    "    \n",
    "    def sort(self):\n",
    "        pass\n",
    "    \n",
    "    def insert_after_node(self, node_before: Node, node_new: Node):\n",
    "        pass\n",
    "    \n",
    "    def insert_after_index(self, node_index: int, node_new: Node):\n",
    "        pass\n",
    "    \n",
    "    def delete_node(self, node: Node):\n",
    "        if self.length == 0:\n",
    "            return\n",
    "        elif self.length == 1 and node == self.root_node and node == self.tail_node:\n",
    "            self.tail_node = None\n",
    "            self.root_node = None\n",
    "            self.length = 0\n",
    "            \n",
    "        elif node == self.root_node:\n",
    "            new_root_node = node.node_next   # The new node becomes the root\n",
    "            new_root_node.node_last = None   # its new last is Nothing because it is the root\n",
    "            self.root_node = node.node_next  # Root node becomes the new root node\n",
    "            self.length = self.length - 1\n",
    "        elif node == self.tail_node:\n",
    "            new_tail_node = node.node_last   # The new node becomes the tail\n",
    "            new_tail_node.node_next = None   # its new next is Nothing because it is the tail\n",
    "            self.tail_node = new_tail_node   # tail node becomes the new tail node\n",
    "            self.length = self.length - 1\n",
    "        else:\n",
    "            \n",
    "            # traverse till you find Node\n",
    "            # reassign pointer of one before\n",
    "            # reassign pointer of one after\n",
    "            # special case for root or tail node\n",
    "            pass\n",
    "        # TODO: if node is not found in traversal, failure? Exception?\n",
    "        \n",
    "    \n",
    "    def get_index(self, index: int):\n",
    "        pass\n"
   ]
  },
  {
   "cell_type": "markdown",
   "metadata": {},
   "source": [
    "### Test Node"
   ]
  },
  {
   "cell_type": "code",
   "execution_count": 69,
   "metadata": {},
   "outputs": [
    {
     "name": "stdout",
     "output_type": "stream",
     "text": [
      "node_one: Node(node_data=1, node_next=None, node_last=None) \n"
     ]
    }
   ],
   "source": [
    "node_one = Node(node_data=1)\n",
    "print(\"node_one: {} \".format(node_one))\n",
    "\n",
    "assert node_one.node_data == 1\n",
    "assert node_one.node_next is None\n",
    "assert node_one.node_last is None"
   ]
  },
  {
   "cell_type": "markdown",
   "metadata": {},
   "source": [
    "### Test Empty List"
   ]
  },
  {
   "cell_type": "code",
   "execution_count": 70,
   "metadata": {},
   "outputs": [
    {
     "name": "stdout",
     "output_type": "stream",
     "text": [
      "linked_list_empty_reverse_order: [] \n",
      "linked_list_empty_in_order: [] \n",
      "linked_list_empty_length: 0 \n",
      "linked_list_root: None \n",
      "linked_list_tail: None \n"
     ]
    }
   ],
   "source": [
    "linked_list_empty = LinkedList()\n",
    "\n",
    "linked_list_empty_reverse_order = linked_list_empty.reverse_order()\n",
    "linked_list_empty_in_order = linked_list_empty.in_order()\n",
    "linked_list_empty_length = linked_list_empty.length\n",
    "linked_list_root = linked_list_empty.root()\n",
    "linked_list_tail = linked_list_empty.tail()\n",
    "\n",
    "print(\"linked_list_empty_reverse_order: {} \".format(linked_list_empty_reverse_order))\n",
    "print(\"linked_list_empty_in_order: {} \".format(linked_list_empty_in_order))\n",
    "print(\"linked_list_empty_length: {} \".format(linked_list_empty_length))\n",
    "print(\"linked_list_root: {} \".format(linked_list_root))\n",
    "print(\"linked_list_tail: {} \".format(linked_list_tail))\n",
    "\n",
    "assert linked_list_empty_reverse_order == []\n",
    "assert linked_list_empty_in_order == []\n",
    "assert linked_list_empty_length == 0\n",
    "assert linked_list_root is None\n",
    "assert linked_list_tail is None"
   ]
  },
  {
   "cell_type": "markdown",
   "metadata": {},
   "source": [
    "### Test Full List"
   ]
  },
  {
   "cell_type": "code",
   "execution_count": 71,
   "metadata": {},
   "outputs": [
    {
     "name": "stdout",
     "output_type": "stream",
     "text": [
      "linked_list_a_reverse_order: ['C', {'hello'}, 1, 'D', 'e'] \n",
      "linked_list_a_in_order: ['e', 'D', 1, {'hello'}, 'C'] \n",
      "linked_list_a_length: 5 \n",
      "linked_list_a_root_data: e \n",
      "linked_list_a_tail_data: C \n"
     ]
    }
   ],
   "source": [
    "linked_list_a = LinkedList()\n",
    "linked_list_a.prepend(Node(\"D\"))\n",
    "linked_list_a.append(Node(1))\n",
    "linked_list_a.append(Node({\"hello\"}))\n",
    "linked_list_a.append(Node(\"C\"))\n",
    "linked_list_a.prepend(Node(\"e\"))\n",
    "\n",
    "linked_list_a_reverse_order = linked_list_a.reverse_order()\n",
    "linked_list_a_in_order = linked_list_a.in_order()\n",
    "linked_list_a_length = linked_list_a.length\n",
    "linked_list_a_root = linked_list_a.root()\n",
    "linked_list_a_tail = linked_list_a.tail()\n",
    "\n",
    "print(\"linked_list_a_reverse_order: {} \".format(linked_list_a_reverse_order))\n",
    "print(\"linked_list_a_in_order: {} \".format(linked_list_a_in_order))\n",
    "print(\"linked_list_a_length: {} \".format(linked_list_a_length))\n",
    "print(\"linked_list_a_root_data: {} \".format(linked_list_a_root.node_data))\n",
    "print(\"linked_list_a_tail_data: {} \".format(linked_list_a_tail.node_data))\n",
    "\n",
    "assert linked_list_a_reverse_order == ['C', {'hello'}, 1, 'D', 'e']\n",
    "assert linked_list_a_in_order == ['e', 'D', 1, {'hello'}, 'C']\n",
    "assert linked_list_a_length == 5\n",
    "assert linked_list_a_root.node_data == 'e'\n",
    "assert linked_list_a_tail.node_data == 'C'"
   ]
  },
  {
   "cell_type": "code",
   "execution_count": 83,
   "metadata": {},
   "outputs": [
    {
     "data": {
      "text/plain": [
       "[]"
      ]
     },
     "execution_count": 83,
     "metadata": {},
     "output_type": "execute_result"
    }
   ],
   "source": [
    "linked_list_a.delete_node(\"hello\")\n",
    "linked_list_a.in_order()"
   ]
  },
  {
   "cell_type": "code",
   "execution_count": 46,
   "metadata": {},
   "outputs": [
    {
     "data": {
      "text/plain": [
       "LinkedList(root_node=Node(node_data='D', node_next=Node(node_data=1, node_next=Node(node_data={'hello'}, node_next=Node(node_data='C', node_next=None, node_last=...), node_last=...), node_last=...), node_last=None), tail_node=Node(node_data='C', node_next=None, node_last=Node(node_data={'hello'}, node_next=..., node_last=Node(node_data=1, node_next=..., node_last=Node(node_data='D', node_next=..., node_last=None)))), length=4)"
      ]
     },
     "execution_count": 46,
     "metadata": {},
     "output_type": "execute_result"
    }
   ],
   "source": [
    "linked_list_a"
   ]
  },
  {
   "cell_type": "code",
   "execution_count": null,
   "metadata": {},
   "outputs": [],
   "source": []
  }
 ],
 "metadata": {
  "kernelspec": {
   "display_name": "Python 3",
   "language": "python",
   "name": "python3"
  },
  "language_info": {
   "codemirror_mode": {
    "name": "ipython",
    "version": 3
   },
   "file_extension": ".py",
   "mimetype": "text/x-python",
   "name": "python",
   "nbconvert_exporter": "python",
   "pygments_lexer": "ipython3",
   "version": "3.7.6"
  }
 },
 "nbformat": 4,
 "nbformat_minor": 4
}
