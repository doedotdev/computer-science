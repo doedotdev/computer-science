{
 "cells": [
  {
   "cell_type": "markdown",
   "metadata": {},
   "source": [
    "## Linked List in Python\n",
    "-"
   ]
  },
  {
   "cell_type": "code",
   "execution_count": 176,
   "metadata": {},
   "outputs": [],
   "source": [
    "from dataclasses import dataclass, asdict\n",
    "from typing import Optional\n",
    "\n",
    "@dataclass\n",
    "class Node:\n",
    "    node_data: int\n",
    "    node_next: Node =  None\n",
    "\n",
    "\n",
    "@dataclass\n",
    "class LinkedList:\n",
    "    root_node: Node = None\n",
    "    last_node: Node = None\n",
    "    length: int = 0\n",
    "        \n",
    "    def set_only_node(self, node):\n",
    "        self.root_node = node\n",
    "        self.last_node = node\n",
    "        \n",
    "        \n",
    "    def append(self, node):\n",
    "        if not self.root_node and not self.last_node:\n",
    "            self.set_only_node(node)\n",
    "        else:\n",
    "            self.last_node.node_next = node\n",
    "            self.last_node = node\n",
    "        self.length += 1\n",
    "    \n",
    "    def prepend(self, node):\n",
    "        if not self.root_node and not self.last_node:\n",
    "            self.set_only_node(node)\n",
    "        else:\n",
    "            node.node_next = self.root_node \n",
    "            self.root_node = node\n",
    "        \n",
    "        self.length += 1\n",
    "    \n",
    "    def sort():\n",
    "        pass\n",
    "    \n",
    "    def insert():\n",
    "        pass"
   ]
  },
  {
   "cell_type": "code",
   "execution_count": 177,
   "metadata": {},
   "outputs": [
    {
     "data": {
      "text/plain": [
       "Node(node_data=1, node_next=None)"
      ]
     },
     "execution_count": 177,
     "metadata": {},
     "output_type": "execute_result"
    }
   ],
   "source": [
    "node = Node(node_data=1)\n",
    "node"
   ]
  },
  {
   "cell_type": "code",
   "execution_count": 182,
   "metadata": {},
   "outputs": [],
   "source": [
    "linked_list = LinkedList()\n",
    "linked_list.prepend(Node(\"D\"))\n",
    "linked_list.append(Node(\"A\"))\n",
    "linked_list.append(Node(\"B\"))\n",
    "linked_list.append(Node(\"C\"))\n",
    "linked_list.prepend(Node(\"e\"))"
   ]
  },
  {
   "cell_type": "code",
   "execution_count": 183,
   "metadata": {},
   "outputs": [
    {
     "name": "stdout",
     "output_type": "stream",
     "text": [
      "e\n",
      "D\n",
      "A\n",
      "B\n",
      "C\n"
     ]
    }
   ],
   "source": [
    "\n",
    "current_node = linked_list.root_node\n",
    "while(True):\n",
    "    print(current_node.node_data)\n",
    "    if current_node.node_next:\n",
    "        current_node = current_node.node_next\n",
    "    else:\n",
    "        break\n",
    "        \n"
   ]
  },
  {
   "cell_type": "code",
   "execution_count": 71,
   "metadata": {},
   "outputs": [
    {
     "name": "stdout",
     "output_type": "stream",
     "text": [
      "{}\n"
     ]
    }
   ],
   "source": [
    "print(asdict(node))"
   ]
  },
  {
   "cell_type": "code",
   "execution_count": 54,
   "metadata": {},
   "outputs": [
    {
     "data": {
      "text/plain": [
       "'Node()'"
      ]
     },
     "execution_count": 54,
     "metadata": {},
     "output_type": "execute_result"
    }
   ],
   "source": [
    "str(node)"
   ]
  },
  {
   "cell_type": "code",
   "execution_count": null,
   "metadata": {},
   "outputs": [],
   "source": []
  }
 ],
 "metadata": {
  "kernelspec": {
   "display_name": "Python 3",
   "language": "python",
   "name": "python3"
  },
  "language_info": {
   "codemirror_mode": {
    "name": "ipython",
    "version": 3
   },
   "file_extension": ".py",
   "mimetype": "text/x-python",
   "name": "python",
   "nbconvert_exporter": "python",
   "pygments_lexer": "ipython3",
   "version": "3.7.6"
  }
 },
 "nbformat": 4,
 "nbformat_minor": 4
}
