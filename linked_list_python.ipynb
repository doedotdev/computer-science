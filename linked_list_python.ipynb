{
 "cells": [
  {
   "cell_type": "markdown",
   "metadata": {},
   "source": [
    "### Linked List in Python\n",
    "- Lists composed of objects that hold data and pointers, or references to the next object\n",
    "- Useful for quick insertion and deletion\n",
    "- Often used in Stacks And Queues\n",
    "- TODO: use cases\n",
    "- TODO: timing cases vs regular lists\n"
   ]
  },
  {
   "cell_type": "code",
   "execution_count": 19,
   "metadata": {},
   "outputs": [],
   "source": [
    "from dataclasses import dataclass, asdict\n",
    "from typing import Optional, Any\n",
    "\n",
    "@dataclass\n",
    "class Node:\n",
    "    \"\"\" Node holds data, pointer to next, and pointer to last \"\"\"\n",
    "    node_data: Any\n",
    "    node_next: Any = None\n",
    "    node_last: Any = None\n",
    "\n",
    "\n",
    "@dataclass\n",
    "class LinkedList:\n",
    "    root_node: Node = None\n",
    "    tail_node: Node = None\n",
    "    length: int = 0\n",
    "        \n",
    "    def set_only_node(self, node):\n",
    "        self.root_node = node\n",
    "        self.tail_node = node\n",
    "        \n",
    "        \n",
    "    def append(self, node):\n",
    "        \"\"\" Append to List | O(1) \"\"\"\n",
    "        if not self.root_node and not self.tail_node:\n",
    "            self.set_only_node(node)\n",
    "        else:\n",
    "            node.node_last = self.tail_node  # new node points to tail <-\n",
    "            self.tail_node.node_next = node  # old tail points to new one ->\n",
    "            self.tail_node = node            # new node becomes tail\n",
    "        self.length += 1\n",
    "    \n",
    "    def prepend(self, node):\n",
    "        \"\"\" Prepend to List | O(1) \"\"\"\n",
    "        if not self.root_node and not self.tail_node:\n",
    "            self.set_only_node(node)\n",
    "        else:\n",
    "            self.root_node.node_last = node  # root node points back to new one <-\n",
    "            node.node_next = self.root_node  # new node points to old root ->\n",
    "            self.root_node = node            # new node becomes root node\n",
    "        \n",
    "        self.length += 1\n",
    "        \n",
    "    def in_order(self): # In order traversal = O(N)\n",
    "        \"\"\" In order traversal | O(N) \"\"\"\n",
    "        current_node = self.root_node\n",
    "        node_data_builder = []\n",
    "        while(current_node):\n",
    "            node_data_builder.append(current_node.node_data)\n",
    "            current_node = current_node.node_next\n",
    "                \n",
    "        return node_data_builder\n",
    "    \n",
    "    def reverse_order(self):\n",
    "        \"\"\" Reverse order traversal | O(N) \"\"\"\n",
    "        current_node = self.tail_node\n",
    "        node_data_builder = []\n",
    "        while(current_node):\n",
    "            node_data_builder.append(current_node.node_data)\n",
    "            current_node = current_node.node_last\n",
    "        \n",
    "        return node_data_builder\n",
    "    \n",
    "    def root(self):\n",
    "        \"\"\" Get Root Node | O(1) \"\"\"\n",
    "        return self.root_node\n",
    "    \n",
    "    def tail(self):\n",
    "        \"\"\" Get Tail Node | O(1) \"\"\"\n",
    "        return self.tail_node\n",
    "    \n",
    "    def swap(self, node_one: Node, node_two: Node):\n",
    "        pass\n",
    "    \n",
    "    def sort(self):\n",
    "        pass\n",
    "    \n",
    "    def insert(self):\n",
    "        pass\n",
    "    \n",
    "    def delete(self):\n",
    "        pass\n",
    "    \n",
    "    \n"
   ]
  },
  {
   "cell_type": "markdown",
   "metadata": {},
   "source": [
    "### Test Node"
   ]
  },
  {
   "cell_type": "code",
   "execution_count": 29,
   "metadata": {},
   "outputs": [
    {
     "name": "stdout",
     "output_type": "stream",
     "text": [
      "node_one: Node(node_data=1, node_next=None, node_last=None) \n"
     ]
    }
   ],
   "source": [
    "node_one = Node(node_data=1)\n",
    "print(\"node_one: {} \".format(node_one))\n",
    "\n",
    "assert node_one.node_data == 1\n",
    "assert node_one.node_next is None\n",
    "assert node_one.node_last is None"
   ]
  },
  {
   "cell_type": "markdown",
   "metadata": {},
   "source": [
    "### Test Empty List"
   ]
  },
  {
   "cell_type": "code",
   "execution_count": 30,
   "metadata": {},
   "outputs": [
    {
     "name": "stdout",
     "output_type": "stream",
     "text": [
      "linked_list_empty_reverse_order: [] \n",
      "linked_list_empty_in_order: [] \n",
      "linked_list_empty_length: 0 \n",
      "linked_list_root: None \n",
      "linked_list_tail: None \n"
     ]
    }
   ],
   "source": [
    "linked_list_empty = LinkedList()\n",
    "\n",
    "linked_list_empty_reverse_order = linked_list_empty.reverse_order()\n",
    "linked_list_empty_in_order = linked_list_empty.in_order()\n",
    "linked_list_empty_length = linked_list_empty.length\n",
    "linked_list_root = linked_list_empty.root()\n",
    "linked_list_tail = linked_list_empty.tail()\n",
    "\n",
    "print(\"linked_list_empty_reverse_order: {} \".format(linked_list_empty_reverse_order))\n",
    "print(\"linked_list_empty_in_order: {} \".format(linked_list_empty_in_order))\n",
    "print(\"linked_list_empty_length: {} \".format(linked_list_empty_length))\n",
    "print(\"linked_list_root: {} \".format(linked_list_root))\n",
    "print(\"linked_list_tail: {} \".format(linked_list_tail))\n",
    "\n",
    "assert linked_list_empty_reverse_order == []\n",
    "assert linked_list_empty_in_order == []\n",
    "assert linked_list_empty_length == 0\n",
    "assert linked_list_root is None\n",
    "assert linked_list_tail is None"
   ]
  },
  {
   "cell_type": "markdown",
   "metadata": {},
   "source": [
    "### Test Full List"
   ]
  },
  {
   "cell_type": "code",
   "execution_count": 31,
   "metadata": {},
   "outputs": [
    {
     "name": "stdout",
     "output_type": "stream",
     "text": [
      "linked_list_a_reverse_order: ['C', {'hello'}, 1, 'D', 'e'] \n",
      "linked_list_a_in_order: ['e', 'D', 1, {'hello'}, 'C'] \n",
      "linked_list_a_length: 5 \n",
      "linked_list_a_root_data: e \n",
      "linked_list_a_tail_data: C \n"
     ]
    }
   ],
   "source": [
    "linked_list_a = LinkedList()\n",
    "linked_list_a.prepend(Node(\"D\"))\n",
    "linked_list_a.append(Node(1))\n",
    "linked_list_a.append(Node({\"hello\"}))\n",
    "linked_list_a.append(Node(\"C\"))\n",
    "linked_list_a.prepend(Node(\"e\"))\n",
    "\n",
    "linked_list_a_reverse_order = linked_list_a.reverse_order()\n",
    "linked_list_a_in_order = linked_list_a.in_order()\n",
    "linked_list_a_length = linked_list_a.length\n",
    "linked_list_a_root = linked_list_a.root()\n",
    "linked_list_a_tail = linked_list_a.tail()\n",
    "\n",
    "print(\"linked_list_a_reverse_order: {} \".format(linked_list_a_reverse_order))\n",
    "print(\"linked_list_a_in_order: {} \".format(linked_list_a_in_order))\n",
    "print(\"linked_list_a_length: {} \".format(linked_list_a_length))\n",
    "print(\"linked_list_a_root_data: {} \".format(linked_list_a_root.node_data))\n",
    "print(\"linked_list_a_tail_data: {} \".format(linked_list_a_tail.node_data))\n",
    "\n",
    "assert linked_list_a_reverse_order == ['C', {'hello'}, 1, 'D', 'e']\n",
    "assert linked_list_a_in_order == ['e', 'D', 1, {'hello'}, 'C']\n",
    "assert linked_list_a_length == 5\n",
    "assert linked_list_a_root.node_data == 'e'\n",
    "assert linked_list_a_tail.node_data == 'C'"
   ]
  },
  {
   "cell_type": "code",
   "execution_count": null,
   "metadata": {},
   "outputs": [],
   "source": []
  }
 ],
 "metadata": {
  "kernelspec": {
   "display_name": "Python 3",
   "language": "python",
   "name": "python3"
  },
  "language_info": {
   "codemirror_mode": {
    "name": "ipython",
    "version": 3
   },
   "file_extension": ".py",
   "mimetype": "text/x-python",
   "name": "python",
   "nbconvert_exporter": "python",
   "pygments_lexer": "ipython3",
   "version": "3.7.6"
  }
 },
 "nbformat": 4,
 "nbformat_minor": 4
}
