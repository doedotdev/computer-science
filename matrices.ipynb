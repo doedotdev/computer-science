{
 "cells": [
  {
   "cell_type": "code",
   "execution_count": 1,
   "metadata": {},
   "outputs": [
    {
     "data": {
      "text/plain": [
       "array([[1, 2, 3],\n",
       "       [4, 5, 6]])"
      ]
     },
     "execution_count": 1,
     "metadata": {},
     "output_type": "execute_result"
    }
   ],
   "source": [
    "import numpy as np\n",
    "\n",
    "matrix = np.array([(1, 2, 3), (4, 5, 6)])\n",
    "matrix"
   ]
  },
  {
   "cell_type": "markdown",
   "metadata": {},
   "source": [
    "### Row Major Iteration"
   ]
  },
  {
   "cell_type": "code",
   "execution_count": 2,
   "metadata": {},
   "outputs": [
    {
     "name": "stdout",
     "output_type": "stream",
     "text": [
      "1\n",
      "2\n",
      "3\n",
      "4\n",
      "5\n",
      "6\n"
     ]
    }
   ],
   "source": [
    "def show_row_major(matrix):\n",
    "    for row in matrix:\n",
    "        for col in row:\n",
    "            print(col)\n",
    "            \n",
    "show_row_major(matrix)"
   ]
  },
  {
   "cell_type": "markdown",
   "metadata": {},
   "source": [
    "### Column Major Iteration"
   ]
  },
  {
   "cell_type": "code",
   "execution_count": 3,
   "metadata": {},
   "outputs": [
    {
     "name": "stdout",
     "output_type": "stream",
     "text": [
      "1\n",
      "4\n",
      "2\n",
      "5\n",
      "3\n",
      "6\n"
     ]
    }
   ],
   "source": [
    "def show_col_major(matrix):\n",
    "    for col in matrix.T:\n",
    "        for row in col:\n",
    "            print(row)\n",
    "show_col_major(matrix)"
   ]
  },
  {
   "cell_type": "markdown",
   "metadata": {},
   "source": [
    "### Create Sparse Matrix"
   ]
  },
  {
   "cell_type": "code",
   "execution_count": 4,
   "metadata": {},
   "outputs": [
    {
     "data": {
      "text/plain": [
       "array([[1, 0, 5, 0, 0, 0, 0, 9, 0, 1, 0, 5, 0, 0, 0, 0, 9, 0, 0, 0, 0, 9],\n",
       "       [0, 2, 0, 3, 0, 0, 0, 0, 0, 1, 0, 5, 0, 0, 0, 0, 9, 0, 0, 0, 0, 9],\n",
       "       [0, 0, 3, 0, 0, 0, 0, 0, 0, 1, 0, 5, 0, 0, 0, 0, 9, 0, 0, 0, 0, 9],\n",
       "       [0, 4, 0, 0, 0, 0, 0, 0, 0, 1, 0, 5, 0, 0, 0, 0, 9, 0, 0, 0, 0, 9],\n",
       "       [0, 0, 0, 0, 0, 0, 0, 0, 1, 1, 0, 5, 0, 0, 0, 0, 9, 0, 0, 0, 0, 9],\n",
       "       [0, 0, 0, 8, 0, 0, 0, 0, 0, 1, 0, 5, 0, 0, 0, 0, 9, 0, 0, 0, 0, 9],\n",
       "       [0, 0, 0, 0, 0, 0, 0, 2, 0, 1, 0, 5, 0, 0, 0, 0, 9, 0, 0, 0, 0, 9],\n",
       "       [0, 0, 0, 0, 0, 9, 0, 0, 0, 1, 0, 5, 0, 0, 0, 0, 9, 0, 0, 0, 0, 9],\n",
       "       [0, 8, 0, 0, 0, 0, 0, 0, 0, 1, 0, 5, 0, 0, 0, 0, 9, 0, 0, 0, 0, 9],\n",
       "       [0, 0, 3, 0, 0, 0, 0, 0, 0, 1, 0, 5, 0, 0, 0, 0, 9, 0, 0, 0, 0, 9],\n",
       "       [0, 0, 0, 0, 2, 0, 1, 0, 0, 1, 0, 5, 0, 0, 0, 0, 9, 0, 0, 0, 0, 9],\n",
       "       [0, 0, 3, 0, 0, 0, 0, 0, 0, 1, 0, 5, 0, 0, 0, 0, 9, 0, 0, 0, 0, 9],\n",
       "       [0, 4, 0, 0, 0, 0, 0, 0, 0, 1, 0, 5, 0, 0, 0, 0, 9, 0, 0, 0, 0, 9],\n",
       "       [0, 0, 0, 0, 0, 0, 0, 0, 1, 1, 0, 5, 0, 0, 0, 0, 9, 0, 0, 0, 0, 9],\n",
       "       [0, 0, 0, 8, 0, 0, 0, 0, 0, 1, 0, 5, 0, 0, 0, 0, 9, 0, 0, 0, 0, 9],\n",
       "       [0, 0, 0, 0, 0, 0, 0, 2, 0, 1, 0, 5, 0, 0, 0, 0, 9, 0, 0, 0, 0, 9],\n",
       "       [0, 0, 0, 0, 0, 9, 0, 0, 0, 1, 0, 5, 0, 0, 0, 0, 9, 0, 0, 0, 0, 9],\n",
       "       [0, 8, 0, 0, 0, 0, 0, 0, 0, 1, 0, 5, 0, 0, 0, 0, 9, 0, 0, 0, 0, 9],\n",
       "       [0, 0, 3, 0, 0, 0, 0, 0, 0, 1, 0, 5, 0, 0, 0, 0, 9, 0, 0, 0, 0, 9],\n",
       "       [0, 0, 0, 0, 2, 0, 1, 0, 0, 1, 0, 5, 0, 0, 0, 0, 9, 0, 0, 0, 0, 9],\n",
       "       [0, 0, 3, 0, 0, 0, 0, 0, 0, 1, 0, 5, 0, 0, 0, 0, 9, 0, 0, 0, 0, 9],\n",
       "       [0, 4, 0, 0, 0, 0, 0, 0, 0, 1, 0, 5, 0, 0, 0, 0, 9, 0, 0, 0, 0, 9],\n",
       "       [0, 0, 0, 0, 0, 0, 0, 0, 1, 1, 0, 5, 0, 0, 0, 0, 9, 0, 0, 0, 0, 9],\n",
       "       [0, 0, 0, 8, 0, 0, 0, 0, 0, 1, 0, 5, 0, 0, 0, 0, 9, 0, 0, 0, 0, 9],\n",
       "       [0, 0, 0, 0, 0, 0, 0, 2, 0, 1, 0, 5, 0, 0, 0, 0, 9, 0, 0, 0, 0, 9],\n",
       "       [0, 0, 0, 0, 0, 9, 0, 0, 0, 1, 0, 5, 0, 0, 0, 0, 9, 0, 0, 0, 0, 9],\n",
       "       [0, 8, 0, 0, 0, 0, 0, 0, 0, 1, 0, 5, 0, 0, 0, 0, 9, 0, 0, 0, 0, 9],\n",
       "       [0, 0, 3, 0, 0, 0, 0, 0, 0, 1, 0, 5, 0, 0, 0, 0, 9, 0, 0, 0, 0, 9],\n",
       "       [0, 0, 0, 0, 2, 0, 1, 0, 0, 1, 0, 5, 0, 0, 0, 0, 9, 0, 0, 0, 0, 9]])"
      ]
     },
     "execution_count": 4,
     "metadata": {},
     "output_type": "execute_result"
    }
   ],
   "source": [
    "sparse = np.array([(1, 0, 5, 0, 0, 0, 0, 9, 0, 1, 0, 5, 0, 0, 0, 0, 9, 0, 0, 0, 0, 9),\n",
    "                   (0, 2, 0, 3, 0, 0, 0, 0, 0, 1, 0, 5, 0, 0, 0, 0, 9, 0, 0, 0, 0, 9),\n",
    "                   (0, 0, 3, 0, 0, 0, 0, 0, 0, 1, 0, 5, 0, 0, 0, 0, 9, 0, 0, 0, 0, 9),\n",
    "                   (0, 4, 0, 0, 0, 0, 0, 0, 0, 1, 0, 5, 0, 0, 0, 0, 9, 0, 0, 0, 0, 9),\n",
    "                   (0, 0, 0, 0, 0, 0, 0, 0, 1, 1, 0, 5, 0, 0, 0, 0, 9, 0, 0, 0, 0, 9),\n",
    "                   (0, 0, 0, 8, 0, 0, 0, 0, 0, 1, 0, 5, 0, 0, 0, 0, 9, 0, 0, 0, 0, 9),\n",
    "                   (0, 0, 0, 0, 0, 0, 0, 2, 0, 1, 0, 5, 0, 0, 0, 0, 9, 0, 0, 0, 0, 9),\n",
    "                   (0, 0, 0, 0, 0, 9, 0, 0, 0, 1, 0, 5, 0, 0, 0, 0, 9, 0, 0, 0, 0, 9),\n",
    "                   (0, 8, 0, 0, 0, 0, 0, 0, 0, 1, 0, 5, 0, 0, 0, 0, 9, 0, 0, 0, 0, 9),\n",
    "                   (0, 0, 3, 0, 0, 0, 0, 0, 0, 1, 0, 5, 0, 0, 0, 0, 9, 0, 0, 0, 0, 9),\n",
    "                   (0, 0, 0, 0, 2, 0, 1, 0, 0, 1, 0, 5, 0, 0, 0, 0, 9, 0, 0, 0, 0, 9),\n",
    "                   (0, 0, 3, 0, 0, 0, 0, 0, 0, 1, 0, 5, 0, 0, 0, 0, 9, 0, 0, 0, 0, 9),\n",
    "                   (0, 4, 0, 0, 0, 0, 0, 0, 0, 1, 0, 5, 0, 0, 0, 0, 9, 0, 0, 0, 0, 9),\n",
    "                   (0, 0, 0, 0, 0, 0, 0, 0, 1, 1, 0, 5, 0, 0, 0, 0, 9, 0, 0, 0, 0, 9),\n",
    "                   (0, 0, 0, 8, 0, 0, 0, 0, 0, 1, 0, 5, 0, 0, 0, 0, 9, 0, 0, 0, 0, 9),\n",
    "                   (0, 0, 0, 0, 0, 0, 0, 2, 0, 1, 0, 5, 0, 0, 0, 0, 9, 0, 0, 0, 0, 9),\n",
    "                   (0, 0, 0, 0, 0, 9, 0, 0, 0, 1, 0, 5, 0, 0, 0, 0, 9, 0, 0, 0, 0, 9),\n",
    "                   (0, 8, 0, 0, 0, 0, 0, 0, 0, 1, 0, 5, 0, 0, 0, 0, 9, 0, 0, 0, 0, 9),\n",
    "                   (0, 0, 3, 0, 0, 0, 0, 0, 0, 1, 0, 5, 0, 0, 0, 0, 9, 0, 0, 0, 0, 9),\n",
    "                   (0, 0, 0, 0, 2, 0, 1, 0, 0, 1, 0, 5, 0, 0, 0, 0, 9, 0, 0, 0, 0, 9),\n",
    "                   (0, 0, 3, 0, 0, 0, 0, 0, 0, 1, 0, 5, 0, 0, 0, 0, 9, 0, 0, 0, 0, 9),\n",
    "                   (0, 4, 0, 0, 0, 0, 0, 0, 0, 1, 0, 5, 0, 0, 0, 0, 9, 0, 0, 0, 0, 9),\n",
    "                   (0, 0, 0, 0, 0, 0, 0, 0, 1, 1, 0, 5, 0, 0, 0, 0, 9, 0, 0, 0, 0, 9),\n",
    "                   (0, 0, 0, 8, 0, 0, 0, 0, 0, 1, 0, 5, 0, 0, 0, 0, 9, 0, 0, 0, 0, 9),\n",
    "                   (0, 0, 0, 0, 0, 0, 0, 2, 0, 1, 0, 5, 0, 0, 0, 0, 9, 0, 0, 0, 0, 9),\n",
    "                   (0, 0, 0, 0, 0, 9, 0, 0, 0, 1, 0, 5, 0, 0, 0, 0, 9, 0, 0, 0, 0, 9),\n",
    "                   (0, 8, 0, 0, 0, 0, 0, 0, 0, 1, 0, 5, 0, 0, 0, 0, 9, 0, 0, 0, 0, 9),\n",
    "                   (0, 0, 3, 0, 0, 0, 0, 0, 0, 1, 0, 5, 0, 0, 0, 0, 9, 0, 0, 0, 0, 9),\n",
    "                   (0, 0, 0, 0, 2, 0, 1, 0, 0, 1, 0, 5, 0, 0, 0, 0, 9, 0, 0, 0, 0, 9)])\n",
    "sparse"
   ]
  },
  {
   "cell_type": "markdown",
   "metadata": {},
   "source": [
    "### Calculate Total Non Zero Elements (nnz) "
   ]
  },
  {
   "cell_type": "code",
   "execution_count": 5,
   "metadata": {},
   "outputs": [
    {
     "data": {
      "text/plain": [
       "151"
      ]
     },
     "execution_count": 5,
     "metadata": {},
     "output_type": "execute_result"
    }
   ],
   "source": [
    "def get_nnz(sparse_matrix):\n",
    "    nnz = 0\n",
    "    for i in sparse:\n",
    "        for j in i:\n",
    "            if j != 0:\n",
    "                nnz += 1\n",
    "\n",
    "    return nnz\n",
    "\n",
    "get_nnz(sparse)"
   ]
  },
  {
   "cell_type": "markdown",
   "metadata": {},
   "source": [
    "### Calculate Sparsity"
   ]
  },
  {
   "cell_type": "code",
   "execution_count": 6,
   "metadata": {},
   "outputs": [
    {
     "data": {
      "text/plain": [
       "0.7633228840125392"
      ]
     },
     "execution_count": 6,
     "metadata": {},
     "output_type": "execute_result"
    }
   ],
   "source": [
    "def calculate_sparsity(sparse_matrix):\n",
    "    nnz = get_nnz(sparse_matrix)\n",
    "    rows, cols = np.shape(sparse)\n",
    "    return 1 - ( nnz / (rows * cols) )\n",
    "\n",
    "calculate_sparsity(sparse)"
   ]
  },
  {
   "cell_type": "markdown",
   "metadata": {},
   "source": [
    "### Calculate Density"
   ]
  },
  {
   "cell_type": "code",
   "execution_count": 7,
   "metadata": {},
   "outputs": [
    {
     "data": {
      "text/plain": [
       "0.23667711598746083"
      ]
     },
     "execution_count": 7,
     "metadata": {},
     "output_type": "execute_result"
    }
   ],
   "source": [
    "def calculate_density(sparse_matrix):\n",
    "    nnz = get_nnz(sparse_matrix)\n",
    "    rows, cols = np.shape(sparse)\n",
    "    return ( nnz / (rows * cols) )\n",
    "\n",
    "calculate_density(sparse)"
   ]
  },
  {
   "cell_type": "markdown",
   "metadata": {},
   "source": [
    "### Convert From Sparse Matrix to COO Format\n",
    "- Storage Complexity = 3nnz\n",
    "- Compute Complexity = N because it does on iteration over the matrix"
   ]
  },
  {
   "cell_type": "code",
   "execution_count": 8,
   "metadata": {},
   "outputs": [
    {
     "name": "stdout",
     "output_type": "stream",
     "text": [
      "row: [0, 0, 0, 0, 0, 0, 0, 1, 1, 1, 1, 1, 1, 2, 2, 2, 2, 2, 3, 3, 3, 3, 3, 4, 4, 4, 4, 4, 5, 5, 5, 5, 5, 6, 6, 6, 6, 6, 7, 7, 7, 7, 7, 8, 8, 8, 8, 8, 9, 9, 9, 9, 9, 10, 10, 10, 10, 10, 10, 11, 11, 11, 11, 11, 12, 12, 12, 12, 12, 13, 13, 13, 13, 13, 14, 14, 14, 14, 14, 15, 15, 15, 15, 15, 16, 16, 16, 16, 16, 17, 17, 17, 17, 17, 18, 18, 18, 18, 18, 19, 19, 19, 19, 19, 19, 20, 20, 20, 20, 20, 21, 21, 21, 21, 21, 22, 22, 22, 22, 22, 23, 23, 23, 23, 23, 24, 24, 24, 24, 24, 25, 25, 25, 25, 25, 26, 26, 26, 26, 26, 27, 27, 27, 27, 27, 28, 28, 28, 28, 28, 28] \n",
      "\n",
      "col: [0, 2, 7, 9, 11, 16, 21, 1, 3, 9, 11, 16, 21, 2, 9, 11, 16, 21, 1, 9, 11, 16, 21, 8, 9, 11, 16, 21, 3, 9, 11, 16, 21, 7, 9, 11, 16, 21, 5, 9, 11, 16, 21, 1, 9, 11, 16, 21, 2, 9, 11, 16, 21, 4, 6, 9, 11, 16, 21, 2, 9, 11, 16, 21, 1, 9, 11, 16, 21, 8, 9, 11, 16, 21, 3, 9, 11, 16, 21, 7, 9, 11, 16, 21, 5, 9, 11, 16, 21, 1, 9, 11, 16, 21, 2, 9, 11, 16, 21, 4, 6, 9, 11, 16, 21, 2, 9, 11, 16, 21, 1, 9, 11, 16, 21, 8, 9, 11, 16, 21, 3, 9, 11, 16, 21, 7, 9, 11, 16, 21, 5, 9, 11, 16, 21, 1, 9, 11, 16, 21, 2, 9, 11, 16, 21, 4, 6, 9, 11, 16, 21] \n",
      "\n",
      "val: [1, 5, 9, 1, 5, 9, 9, 2, 3, 1, 5, 9, 9, 3, 1, 5, 9, 9, 4, 1, 5, 9, 9, 1, 1, 5, 9, 9, 8, 1, 5, 9, 9, 2, 1, 5, 9, 9, 9, 1, 5, 9, 9, 8, 1, 5, 9, 9, 3, 1, 5, 9, 9, 2, 1, 1, 5, 9, 9, 3, 1, 5, 9, 9, 4, 1, 5, 9, 9, 1, 1, 5, 9, 9, 8, 1, 5, 9, 9, 2, 1, 5, 9, 9, 9, 1, 5, 9, 9, 8, 1, 5, 9, 9, 3, 1, 5, 9, 9, 2, 1, 1, 5, 9, 9, 3, 1, 5, 9, 9, 4, 1, 5, 9, 9, 1, 1, 5, 9, 9, 8, 1, 5, 9, 9, 2, 1, 5, 9, 9, 9, 1, 5, 9, 9, 8, 1, 5, 9, 9, 3, 1, 5, 9, 9, 2, 1, 1, 5, 9, 9] \n",
      "\n",
      "row_count: 29 \n",
      "\n",
      "col_count: 22 \n",
      "\n",
      "storage: 455 \n",
      "\n"
     ]
    }
   ],
   "source": [
    "def sparse_to_coo(sparse_matrix):\n",
    "    row_coo = []\n",
    "    col_coo = []\n",
    "    val_coo = []\n",
    "    row_count = np.shape(sparse_matrix)[0]\n",
    "    col_count = np.shape(sparse_matrix)[1]\n",
    "\n",
    "    for row_index, row in enumerate(sparse_matrix):\n",
    "        for col_index, value in enumerate(row):\n",
    "            if value != 0:\n",
    "                row_coo.append(row_index)\n",
    "                col_coo.append(col_index)\n",
    "                val_coo.append(value)\n",
    "    return row_coo, col_coo, val_coo, row_count, col_count\n",
    "\n",
    "row_coo, col_coo, val_coo, row_count, col_count = sparse_to_coo(sparse)\n",
    "\n",
    "print(\"row:\", row_coo, \"\\n\")\n",
    "print(\"col:\", col_coo, \"\\n\")\n",
    "print(\"val:\", val_coo, \"\\n\")\n",
    "print(\"row_count:\", row_count, \"\\n\")\n",
    "print(\"col_count:\", col_count, \"\\n\")\n",
    "print(\"storage:\", len(row_coo) + len(col_coo) + len(val_coo) + 1 + 1, \"\\n\")"
   ]
  },
  {
   "cell_type": "markdown",
   "metadata": {},
   "source": [
    "### Convert from COO Format to Matrix"
   ]
  },
  {
   "cell_type": "code",
   "execution_count": 9,
   "metadata": {},
   "outputs": [
    {
     "data": {
      "text/plain": [
       "array([[1, 0, 5, 0, 0, 0, 0, 9, 0, 1, 0, 5, 0, 0, 0, 0, 9, 0, 0, 0, 0, 9],\n",
       "       [0, 2, 0, 3, 0, 0, 0, 0, 0, 1, 0, 5, 0, 0, 0, 0, 9, 0, 0, 0, 0, 9],\n",
       "       [0, 0, 3, 0, 0, 0, 0, 0, 0, 1, 0, 5, 0, 0, 0, 0, 9, 0, 0, 0, 0, 9],\n",
       "       [0, 4, 0, 0, 0, 0, 0, 0, 0, 1, 0, 5, 0, 0, 0, 0, 9, 0, 0, 0, 0, 9],\n",
       "       [0, 0, 0, 0, 0, 0, 0, 0, 1, 1, 0, 5, 0, 0, 0, 0, 9, 0, 0, 0, 0, 9],\n",
       "       [0, 0, 0, 8, 0, 0, 0, 0, 0, 1, 0, 5, 0, 0, 0, 0, 9, 0, 0, 0, 0, 9],\n",
       "       [0, 0, 0, 0, 0, 0, 0, 2, 0, 1, 0, 5, 0, 0, 0, 0, 9, 0, 0, 0, 0, 9],\n",
       "       [0, 0, 0, 0, 0, 9, 0, 0, 0, 1, 0, 5, 0, 0, 0, 0, 9, 0, 0, 0, 0, 9],\n",
       "       [0, 8, 0, 0, 0, 0, 0, 0, 0, 1, 0, 5, 0, 0, 0, 0, 9, 0, 0, 0, 0, 9],\n",
       "       [0, 0, 3, 0, 0, 0, 0, 0, 0, 1, 0, 5, 0, 0, 0, 0, 9, 0, 0, 0, 0, 9],\n",
       "       [0, 0, 0, 0, 2, 0, 1, 0, 0, 1, 0, 5, 0, 0, 0, 0, 9, 0, 0, 0, 0, 9],\n",
       "       [0, 0, 3, 0, 0, 0, 0, 0, 0, 1, 0, 5, 0, 0, 0, 0, 9, 0, 0, 0, 0, 9],\n",
       "       [0, 4, 0, 0, 0, 0, 0, 0, 0, 1, 0, 5, 0, 0, 0, 0, 9, 0, 0, 0, 0, 9],\n",
       "       [0, 0, 0, 0, 0, 0, 0, 0, 1, 1, 0, 5, 0, 0, 0, 0, 9, 0, 0, 0, 0, 9],\n",
       "       [0, 0, 0, 8, 0, 0, 0, 0, 0, 1, 0, 5, 0, 0, 0, 0, 9, 0, 0, 0, 0, 9],\n",
       "       [0, 0, 0, 0, 0, 0, 0, 2, 0, 1, 0, 5, 0, 0, 0, 0, 9, 0, 0, 0, 0, 9],\n",
       "       [0, 0, 0, 0, 0, 9, 0, 0, 0, 1, 0, 5, 0, 0, 0, 0, 9, 0, 0, 0, 0, 9],\n",
       "       [0, 8, 0, 0, 0, 0, 0, 0, 0, 1, 0, 5, 0, 0, 0, 0, 9, 0, 0, 0, 0, 9],\n",
       "       [0, 0, 3, 0, 0, 0, 0, 0, 0, 1, 0, 5, 0, 0, 0, 0, 9, 0, 0, 0, 0, 9],\n",
       "       [0, 0, 0, 0, 2, 0, 1, 0, 0, 1, 0, 5, 0, 0, 0, 0, 9, 0, 0, 0, 0, 9],\n",
       "       [0, 0, 3, 0, 0, 0, 0, 0, 0, 1, 0, 5, 0, 0, 0, 0, 9, 0, 0, 0, 0, 9],\n",
       "       [0, 4, 0, 0, 0, 0, 0, 0, 0, 1, 0, 5, 0, 0, 0, 0, 9, 0, 0, 0, 0, 9],\n",
       "       [0, 0, 0, 0, 0, 0, 0, 0, 1, 1, 0, 5, 0, 0, 0, 0, 9, 0, 0, 0, 0, 9],\n",
       "       [0, 0, 0, 8, 0, 0, 0, 0, 0, 1, 0, 5, 0, 0, 0, 0, 9, 0, 0, 0, 0, 9],\n",
       "       [0, 0, 0, 0, 0, 0, 0, 2, 0, 1, 0, 5, 0, 0, 0, 0, 9, 0, 0, 0, 0, 9],\n",
       "       [0, 0, 0, 0, 0, 9, 0, 0, 0, 1, 0, 5, 0, 0, 0, 0, 9, 0, 0, 0, 0, 9],\n",
       "       [0, 8, 0, 0, 0, 0, 0, 0, 0, 1, 0, 5, 0, 0, 0, 0, 9, 0, 0, 0, 0, 9],\n",
       "       [0, 0, 3, 0, 0, 0, 0, 0, 0, 1, 0, 5, 0, 0, 0, 0, 9, 0, 0, 0, 0, 9],\n",
       "       [0, 0, 0, 0, 2, 0, 1, 0, 0, 1, 0, 5, 0, 0, 0, 0, 9, 0, 0, 0, 0, 9]])"
      ]
     },
     "execution_count": 9,
     "metadata": {},
     "output_type": "execute_result"
    }
   ],
   "source": [
    "def coo_to_matrix(row_coo, col_coo, val_coo, row_count, col_count):\n",
    "    dense = np.zeros((row_count, col_count), dtype=int)\n",
    "    for r, c, v in zip(row_coo, col_coo, val_coo):\n",
    "        dense[r, c] = v\n",
    "    return dense\n",
    "\n",
    "coo_result = coo_to_matrix(row_coo, col_coo, val_coo, row_count, col_count)\n",
    "coo_result"
   ]
  },
  {
   "cell_type": "code",
   "execution_count": 19,
   "metadata": {},
   "outputs": [],
   "source": [
    "np.testing.assert_equal(coo_result, sparse)"
   ]
  },
  {
   "cell_type": "markdown",
   "metadata": {},
   "source": [
    "### Convert From Sparse Matrix to CSR Format"
   ]
  },
  {
   "cell_type": "code",
   "execution_count": 11,
   "metadata": {},
   "outputs": [
    {
     "name": "stdout",
     "output_type": "stream",
     "text": [
      "row_csr: [0, 7, 13, 18, 23, 28, 33, 38, 43, 48, 53, 59, 64, 69, 74, 79, 84, 89, 94, 99, 105, 110, 115, 120, 125, 130, 135, 140, 145, 151] \n",
      "\n",
      "col_csr: [0, 2, 7, 9, 11, 16, 21, 1, 3, 9, 11, 16, 21, 2, 9, 11, 16, 21, 1, 9, 11, 16, 21, 8, 9, 11, 16, 21, 3, 9, 11, 16, 21, 7, 9, 11, 16, 21, 5, 9, 11, 16, 21, 1, 9, 11, 16, 21, 2, 9, 11, 16, 21, 4, 6, 9, 11, 16, 21, 2, 9, 11, 16, 21, 1, 9, 11, 16, 21, 8, 9, 11, 16, 21, 3, 9, 11, 16, 21, 7, 9, 11, 16, 21, 5, 9, 11, 16, 21, 1, 9, 11, 16, 21, 2, 9, 11, 16, 21, 4, 6, 9, 11, 16, 21, 2, 9, 11, 16, 21, 1, 9, 11, 16, 21, 8, 9, 11, 16, 21, 3, 9, 11, 16, 21, 7, 9, 11, 16, 21, 5, 9, 11, 16, 21, 1, 9, 11, 16, 21, 2, 9, 11, 16, 21, 4, 6, 9, 11, 16, 21] \n",
      "\n",
      "val_csr: [1, 5, 9, 1, 5, 9, 9, 2, 3, 1, 5, 9, 9, 3, 1, 5, 9, 9, 4, 1, 5, 9, 9, 1, 1, 5, 9, 9, 8, 1, 5, 9, 9, 2, 1, 5, 9, 9, 9, 1, 5, 9, 9, 8, 1, 5, 9, 9, 3, 1, 5, 9, 9, 2, 1, 1, 5, 9, 9, 3, 1, 5, 9, 9, 4, 1, 5, 9, 9, 1, 1, 5, 9, 9, 8, 1, 5, 9, 9, 2, 1, 5, 9, 9, 9, 1, 5, 9, 9, 8, 1, 5, 9, 9, 3, 1, 5, 9, 9, 2, 1, 1, 5, 9, 9, 3, 1, 5, 9, 9, 4, 1, 5, 9, 9, 1, 1, 5, 9, 9, 8, 1, 5, 9, 9, 2, 1, 5, 9, 9, 9, 1, 5, 9, 9, 8, 1, 5, 9, 9, 3, 1, 5, 9, 9, 2, 1, 1, 5, 9, 9] \n",
      "\n",
      "row_count: 29 \n",
      "\n",
      "col_count: 22 \n",
      "\n",
      "storage: 334 \n",
      "\n"
     ]
    }
   ],
   "source": [
    "def sparse_to_csr(sparse):\n",
    "    row_coo, col_coo, val_coo, row_count, col_count = sparse_to_coo(sparse)\n",
    "    RCV = sorted(zip(row_coo, col_coo, val_coo))\n",
    "    \n",
    "    \n",
    "    col_csr = [c for _, c, _ in RCV]\n",
    "    val_csr = [v for _, _, v in RCV]\n",
    "    row_csr = [0]\n",
    "    last_row_processed = 0\n",
    "    \n",
    "    for index, rcv in enumerate(RCV):\n",
    "        if rcv[0] != last_row_processed:\n",
    "            row_csr.append(index)\n",
    "            last_row_processed = rcv[0]\n",
    "\n",
    "    row_csr = row_csr + [len(val_csr)] # todo\n",
    "        \n",
    "\n",
    "    return row_csr, col_csr, val_csr, row_count, col_count\n",
    "\n",
    "\n",
    "row_csr, col_csr, val_csr, row_count, col_count = sparse_to_csr(sparse)  \n",
    "\n",
    "\n",
    "print(\"row_csr:\", row_csr, \"\\n\")\n",
    "print(\"col_csr:\", col_csr, \"\\n\")\n",
    "print(\"val_csr:\", val_csr, \"\\n\")\n",
    "print(\"row_count:\", row_count, \"\\n\")\n",
    "print(\"col_count:\", col_count, \"\\n\")\n",
    "print(\"storage:\", len(row_csr) + len(col_csr) + len(val_csr) + 1 + 1, \"\\n\")"
   ]
  },
  {
   "cell_type": "markdown",
   "metadata": {},
   "source": [
    "### Convert CSR Format to Matrix"
   ]
  },
  {
   "cell_type": "code",
   "execution_count": 20,
   "metadata": {},
   "outputs": [
    {
     "data": {
      "text/plain": [
       "array([[1, 0, 5, 0, 0, 0, 0, 9, 0, 1, 0, 5, 0, 0, 0, 0, 9, 0, 0, 0, 0, 9],\n",
       "       [0, 2, 0, 3, 0, 0, 0, 0, 0, 1, 0, 5, 0, 0, 0, 0, 9, 0, 0, 0, 0, 9],\n",
       "       [0, 0, 3, 0, 0, 0, 0, 0, 0, 1, 0, 5, 0, 0, 0, 0, 9, 0, 0, 0, 0, 9],\n",
       "       [0, 4, 0, 0, 0, 0, 0, 0, 0, 1, 0, 5, 0, 0, 0, 0, 9, 0, 0, 0, 0, 9],\n",
       "       [0, 0, 0, 0, 0, 0, 0, 0, 1, 1, 0, 5, 0, 0, 0, 0, 9, 0, 0, 0, 0, 9],\n",
       "       [0, 0, 0, 8, 0, 0, 0, 0, 0, 1, 0, 5, 0, 0, 0, 0, 9, 0, 0, 0, 0, 9],\n",
       "       [0, 0, 0, 0, 0, 0, 0, 2, 0, 1, 0, 5, 0, 0, 0, 0, 9, 0, 0, 0, 0, 9],\n",
       "       [0, 0, 0, 0, 0, 9, 0, 0, 0, 1, 0, 5, 0, 0, 0, 0, 9, 0, 0, 0, 0, 9],\n",
       "       [0, 8, 0, 0, 0, 0, 0, 0, 0, 1, 0, 5, 0, 0, 0, 0, 9, 0, 0, 0, 0, 9],\n",
       "       [0, 0, 3, 0, 0, 0, 0, 0, 0, 1, 0, 5, 0, 0, 0, 0, 9, 0, 0, 0, 0, 9],\n",
       "       [0, 0, 0, 0, 2, 0, 1, 0, 0, 1, 0, 5, 0, 0, 0, 0, 9, 0, 0, 0, 0, 9],\n",
       "       [0, 0, 3, 0, 0, 0, 0, 0, 0, 1, 0, 5, 0, 0, 0, 0, 9, 0, 0, 0, 0, 9],\n",
       "       [0, 4, 0, 0, 0, 0, 0, 0, 0, 1, 0, 5, 0, 0, 0, 0, 9, 0, 0, 0, 0, 9],\n",
       "       [0, 0, 0, 0, 0, 0, 0, 0, 1, 1, 0, 5, 0, 0, 0, 0, 9, 0, 0, 0, 0, 9],\n",
       "       [0, 0, 0, 8, 0, 0, 0, 0, 0, 1, 0, 5, 0, 0, 0, 0, 9, 0, 0, 0, 0, 9],\n",
       "       [0, 0, 0, 0, 0, 0, 0, 2, 0, 1, 0, 5, 0, 0, 0, 0, 9, 0, 0, 0, 0, 9],\n",
       "       [0, 0, 0, 0, 0, 9, 0, 0, 0, 1, 0, 5, 0, 0, 0, 0, 9, 0, 0, 0, 0, 9],\n",
       "       [0, 8, 0, 0, 0, 0, 0, 0, 0, 1, 0, 5, 0, 0, 0, 0, 9, 0, 0, 0, 0, 9],\n",
       "       [0, 0, 3, 0, 0, 0, 0, 0, 0, 1, 0, 5, 0, 0, 0, 0, 9, 0, 0, 0, 0, 9],\n",
       "       [0, 0, 0, 0, 2, 0, 1, 0, 0, 1, 0, 5, 0, 0, 0, 0, 9, 0, 0, 0, 0, 9],\n",
       "       [0, 0, 3, 0, 0, 0, 0, 0, 0, 1, 0, 5, 0, 0, 0, 0, 9, 0, 0, 0, 0, 9],\n",
       "       [0, 4, 0, 0, 0, 0, 0, 0, 0, 1, 0, 5, 0, 0, 0, 0, 9, 0, 0, 0, 0, 9],\n",
       "       [0, 0, 0, 0, 0, 0, 0, 0, 1, 1, 0, 5, 0, 0, 0, 0, 9, 0, 0, 0, 0, 9],\n",
       "       [0, 0, 0, 8, 0, 0, 0, 0, 0, 1, 0, 5, 0, 0, 0, 0, 9, 0, 0, 0, 0, 9],\n",
       "       [0, 0, 0, 0, 0, 0, 0, 2, 0, 1, 0, 5, 0, 0, 0, 0, 9, 0, 0, 0, 0, 9],\n",
       "       [0, 0, 0, 0, 0, 9, 0, 0, 0, 1, 0, 5, 0, 0, 0, 0, 9, 0, 0, 0, 0, 9],\n",
       "       [0, 8, 0, 0, 0, 0, 0, 0, 0, 1, 0, 5, 0, 0, 0, 0, 9, 0, 0, 0, 0, 9],\n",
       "       [0, 0, 3, 0, 0, 0, 0, 0, 0, 1, 0, 5, 0, 0, 0, 0, 9, 0, 0, 0, 0, 9],\n",
       "       [0, 0, 0, 0, 2, 0, 1, 0, 0, 1, 0, 5, 0, 0, 0, 0, 9, 0, 0, 0, 0, 9]])"
      ]
     },
     "execution_count": 20,
     "metadata": {},
     "output_type": "execute_result"
    }
   ],
   "source": [
    "def csr_to_matrix(row_csr, col_csr, val_csr, row_count, col_count):\n",
    "    matrix = np.zeros((row_count, col_count), dtype=int)\n",
    "\n",
    "    for row in range(len(row_csr) - 1):\n",
    "        start = row_csr[row]\n",
    "        stop = row_csr[row + 1]\n",
    "        \n",
    "        for col_ind in range(start, stop):\n",
    "            matrix[row, col_csr[col_ind]] = val_csr[col_ind]\n",
    "    return matrix\n",
    "\n",
    "\n",
    "csr_result = csr_to_matrix(row_csr, col_csr, val_csr, row_count, col_count)  \n",
    "csr_result"
   ]
  },
  {
   "cell_type": "code",
   "execution_count": 18,
   "metadata": {},
   "outputs": [],
   "source": [
    "np.testing.assert_equal(csr_result, sparse)"
   ]
  },
  {
   "cell_type": "markdown",
   "metadata": {},
   "source": [
    "### Notes\n",
    "- CSR and COO are same complexity when there is only one item per row. \n",
    "- CSR and CSC are very similar, I could make a generic method for either"
   ]
  },
  {
   "cell_type": "code",
   "execution_count": null,
   "metadata": {},
   "outputs": [],
   "source": []
  }
 ],
 "metadata": {
  "kernelspec": {
   "display_name": "Python 3",
   "language": "python",
   "name": "python3"
  },
  "language_info": {
   "codemirror_mode": {
    "name": "ipython",
    "version": 3
   },
   "file_extension": ".py",
   "mimetype": "text/x-python",
   "name": "python",
   "nbconvert_exporter": "python",
   "pygments_lexer": "ipython3",
   "version": "3.7.6"
  }
 },
 "nbformat": 4,
 "nbformat_minor": 4
}
